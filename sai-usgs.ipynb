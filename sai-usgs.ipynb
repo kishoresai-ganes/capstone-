{
	"cells": [
		{
			"cell_type": "code",
			"execution_count": null,
			"metadata": {
				"vscode": {
					"languageId": "plaintext"
				}
			},
			"outputs": [],
			"source": [
				"!pip install pyspark"
			]
		},
		{
			"cell_type": "code",
			"execution_count": null,
			"metadata": {
				"vscode": {
					"languageId": "plaintext"
				}
			},
			"outputs": [],
			"source": [
				"from pyspark.sql import SparkSession\n",
				"spark=SparkSession.builder.appName(\"USGS\").getOrCreate()"
			]
		},
		{
			"cell_type": "code",
			"execution_count": null,
			"metadata": {
				"vscode": {
					"languageId": "plaintext"
				}
			},
			"outputs": [],
			"source": [
				"data=spark.read.format(\"csv\").option(\"header\",\"true\").option(\"inferSchema\",\"true\").load(\"dbfs:/FileStore/shared_uploads/kishoresai.ganes@tigeranalytics.com/usgs_main.csv\")"
			]
		},
		{
			"cell_type": "code",
			"execution_count": 40,
			"metadata": {
				"colab": {
					"base_uri": "https://localhost:8080/"
				},
				"id": "9C1_ckDyIn5p",
				"outputId": "ce2b6835-dd0b-4a36-b3a7-10eaa1e6fc15",
				"trusted": true,
				"vscode": {
					"languageId": "python_glue_session"
				}
			},
			"outputs": [
				{
					"name": "stdout",
					"output_type": "stream",
					"text": [
						"DataFrame[summary: string, latitude: string, longitude: string, depth: string, mag: string, magType: string, nst: string, gap: string, dmin: string, rms: string, net: string, id: string, place: string, type: string, horizontalError: string, depthError: string, magError: string, magNst: string, status: string, locationSource: string, magSource: string]\n"
					]
				}
			],
			"source": [
				"data.describe()"
			]
		},
		{
			"cell_type": "code",
			"execution_count": 41,
			"metadata": {
				"colab": {
					"base_uri": "https://localhost:8080/"
				},
				"id": "sLlIUrGrZw90",
				"outputId": "7909db89-5b05-4097-8c8d-7c827a22f257",
				"trusted": true,
				"vscode": {
					"languageId": "python_glue_session"
				}
			},
			"outputs": [
				{
					"name": "stdout",
					"output_type": "stream",
					"text": [
						"+------------------+-----+\n",
						"|              type|count|\n",
						"+------------------+-----+\n",
						"|         explosion|  376|\n",
						"|         ice quake|   11|\n",
						"|      quarry blast|  665|\n",
						"|       other event|    5|\n",
						"|        earthquake|74752|\n",
						"|chemical explosion|    1|\n",
						"+------------------+-----+\n"
					]
				}
			],
			"source": [
				"data.groupby(\"type\").count().show()"
			]
		},
		{
			"cell_type": "code",
			"execution_count": 42,
			"metadata": {
				"colab": {
					"base_uri": "https://localhost:8080/"
				},
				"id": "WWwIW7HtIqSU",
				"outputId": "7e3c57cc-0b32-47c7-a55a-d155b95d8f81",
				"trusted": true,
				"vscode": {
					"languageId": "python_glue_session"
				}
			},
			"outputs": [
				{
					"name": "stdout",
					"output_type": "stream",
					"text": [
						"root\n",
						" |-- time: timestamp (nullable = true)\n",
						" |-- latitude: double (nullable = true)\n",
						" |-- longitude: double (nullable = true)\n",
						" |-- depth: double (nullable = true)\n",
						" |-- mag: double (nullable = true)\n",
						" |-- magType: string (nullable = true)\n",
						" |-- nst: double (nullable = true)\n",
						" |-- gap: double (nullable = true)\n",
						" |-- dmin: double (nullable = true)\n",
						" |-- rms: double (nullable = true)\n",
						" |-- net: string (nullable = true)\n",
						" |-- id: string (nullable = true)\n",
						" |-- updated: timestamp (nullable = true)\n",
						" |-- place: string (nullable = true)\n",
						" |-- type: string (nullable = true)\n",
						" |-- horizontalError: double (nullable = true)\n",
						" |-- depthError: double (nullable = true)\n",
						" |-- magError: double (nullable = true)\n",
						" |-- magNst: double (nullable = true)\n",
						" |-- status: string (nullable = true)\n",
						" |-- locationSource: string (nullable = true)\n",
						" |-- magSource: string (nullable = true)\n"
					]
				}
			],
			"source": [
				"data.printSchema()"
			]
		},
		{
			"cell_type": "code",
			"execution_count": 43,
			"metadata": {
				"colab": {
					"base_uri": "https://localhost:8080/"
				},
				"id": "m9egJQnzI2Yi",
				"outputId": "901b3f8b-1265-444a-d2f7-6838fcfb3f84",
				"trusted": true,
				"vscode": {
					"languageId": "python_glue_session"
				}
			},
			"outputs": [
				{
					"name": "stdout",
					"output_type": "stream",
					"text": [
						"+-----------------------+----------+------------+-----+----+-------+----+-----+--------+----+---+------------+-----------------------+----------------------------------+----------+---------------+----------+--------+------+---------+--------------+---------+\n",
						"|time                   |latitude  |longitude   |depth|mag |magType|nst |gap  |dmin    |rms |net|id          |updated                |place                             |type      |horizontalError|depthError|magError|magNst|status   |locationSource|magSource|\n",
						"+-----------------------+----------+------------+-----+----+-------+----+-----+--------+----+---+------------+-----------------------+----------------------------------+----------+---------------+----------+--------+------+---------+--------------+---------+\n",
						"|2022-03-04 21:28:02.44 |38.7596664|-122.7196655|1.61 |1.24|md     |14.0|115.0|0.004494|0.04|nc |nc73701241  |2022-03-04 21:29:36.906|3km SW of Anderson Springs, CA    |earthquake|0.3            |0.36      |0.1     |5.0   |automatic|nc            |nc       |\n",
						"|2022-03-04 21:27:28.19 |38.8338318|-122.8154984|1.82 |1.13|md     |22.0|66.0 |0.01632 |0.02|nc |nc73701236  |2022-03-04 21:29:02.128|8km NW of The Geysers, CA         |earthquake|0.19           |0.53      |0.14    |4.0   |automatic|nc            |nc       |\n",
						"|2022-03-04 21:25:05.13 |35.5966682|-120.2713318|11.57|2.31|md     |5.0 |178.0|0.159   |0.01|nc |nc73701231  |2022-03-04 21:26:56.893|11km SE of Shandon, CA            |earthquake|3.14           |3.51      |0.76    |3.0   |automatic|nc            |nc       |\n",
						"|2022-03-04 21:20:43.59 |35.9291667|-117.6608333|3.25 |0.88|ml     |9.0 |73.0 |0.02053 |0.13|ci |ci40199696  |2022-03-04 21:24:10.449|22km E of Little Lake, CA         |earthquake|0.33           |0.74      |0.055   |10.0  |automatic|ci            |ci       |\n",
						"|2022-03-04 21:19:08.215|62.3602   |-149.6345   |9.8  |1.4 |ml     |null|null |null    |0.52|ak |ak0222wjh21x|2022-03-04 21:22:15.794|24 km NNE of Susitna North, Alaska|earthquake|null           |0.5       |null    |null  |automatic|ak            |ak       |\n",
						"+-----------------------+----------+------------+-----+----+-------+----+-----+--------+----+---+------------+-----------------------+----------------------------------+----------+---------------+----------+--------+------+---------+--------------+---------+\n",
						"only showing top 5 rows\n"
					]
				}
			],
			"source": [
				"data.show(5,False)"
			]
		},
		{
			"cell_type": "code",
			"execution_count": 44,
			"metadata": {
				"id": "8HpCM6FAJE0b",
				"trusted": true,
				"vscode": {
					"languageId": "python_glue_session"
				}
			},
			"outputs": [],
			"source": [
				"data=data.na.drop()"
			]
		},
		{
			"cell_type": "code",
			"execution_count": 45,
			"metadata": {
				"id": "eFPiA-L4JgTY",
				"trusted": true,
				"vscode": {
					"languageId": "python_glue_session"
				}
			},
			"outputs": [],
			"source": [
				"data=data.drop(\"place\",\"time\",\"magSource\")"
			]
		},
		{
			"cell_type": "code",
			"execution_count": 46,
			"metadata": {
				"id": "jKAaUidFJw7q",
				"trusted": true,
				"vscode": {
					"languageId": "python_glue_session"
				}
			},
			"outputs": [],
			"source": [
				"data=data.withColumnRenamed(\"updated\",\"time\")\n",
				"data=data.withColumnRenamed(\"locationSource\",\"source\")"
			]
		},
		{
			"cell_type": "code",
			"execution_count": 47,
			"metadata": {
				"colab": {
					"base_uri": "https://localhost:8080/"
				},
				"id": "yeJz3D5UJ6TI",
				"outputId": "915d45ca-1540-4667-c920-baaa7f611078",
				"trusted": true,
				"vscode": {
					"languageId": "python_glue_session"
				}
			},
			"outputs": [
				{
					"name": "stdout",
					"output_type": "stream",
					"text": [
						"+-----------------+-------------------+-----+----+-------+----+-----+--------+----+---+----------+--------------------+------------+---------------+----------+-----------------+------+---------+------+\n",
						"|         latitude|          longitude|depth| mag|magType| nst|  gap|    dmin| rms|net|        id|                time|        type|horizontalError|depthError|         magError|magNst|   status|source|\n",
						"+-----------------+-------------------+-----+----+-------+----+-----+--------+----+---+----------+--------------------+------------+---------------+----------+-----------------+------+---------+------+\n",
						"|       38.7596664|       -122.7196655| 1.61|1.24|     md|14.0|115.0|0.004494|0.04| nc|nc73701241|2022-03-04 21:29:...|  earthquake|            0.3|      0.36|              0.1|   5.0|automatic|    nc|\n",
						"|       38.8338318|       -122.8154984| 1.82|1.13|     md|22.0| 66.0| 0.01632|0.02| nc|nc73701236|2022-03-04 21:29:...|  earthquake|           0.19|      0.53|             0.14|   4.0|automatic|    nc|\n",
						"|       35.5966682|       -120.2713318|11.57|2.31|     md| 5.0|178.0|   0.159|0.01| nc|nc73701231|2022-03-04 21:26:...|  earthquake|           3.14|      3.51|             0.76|   3.0|automatic|    nc|\n",
						"|       35.9291667|       -117.6608333| 3.25|0.88|     ml| 9.0| 73.0| 0.02053|0.13| ci|ci40199696|2022-03-04 21:24:...|  earthquake|           0.33|      0.74|            0.055|  10.0|automatic|    ci|\n",
						"|           33.069|       -116.0461667| 7.75|1.54|     ml|35.0| 45.0|   0.119|0.25| ci|ci40199664|2022-03-04 20:02:...|  earthquake|            0.3|      1.08|            0.116|  28.0|automatic|    ci|\n",
						"|           33.467|       -116.4743333|  7.6|0.74|     ml|21.0| 65.0|  0.1019| 0.2| ci|ci40199656|2022-03-04 19:37:...|  earthquake|           0.31|      1.01|             0.21|  18.0|automatic|    ci|\n",
						"|          35.8475|       -117.6781667| 8.58|0.69|     ml|12.0| 86.0|  0.0728|0.06| ci|ci40199648|2022-03-04 19:26:...|  earthquake|           0.19|      0.57|            0.132|   7.0|automatic|    ci|\n",
						"|       33.8241667|            -117.48|-0.51|1.03|     ml|36.0| 45.0|  0.0299|0.18| ci|ci40199632|2022-03-04 18:42:...|quarry blast|           0.36|     31.61|            0.082|  16.0| reviewed|    ci|\n",
						"|       38.7941667|       -122.7473333| 2.13|1.37|     md|42.0| 46.0| 0.01163|0.04| nc|nc73701176|2022-03-04 21:22:...|  earthquake|           0.16|       0.3|            0.108|  12.0| reviewed|    nc|\n",
						"|             37.5|       -118.8758333|-0.51|1.28|     md|16.0|142.0| 0.09724|0.18| nc|nc73701171|2022-03-04 21:07:...|  earthquake|           0.54|     31.61|            0.214|  14.0| reviewed|    nc|\n",
						"|       36.1313333|       -117.8333333| 2.47|0.78|     ml|16.0|131.0| 0.02218| 0.1| ci|ci40199616|2022-03-04 18:45:...|  earthquake|           0.28|      0.21|            0.261|   7.0| reviewed|    ci|\n",
						"|       37.6456667|       -118.8631667| 4.29| 0.7|     md|11.0|114.0|  0.0265|0.07| nc|nc73701166|2022-03-04 19:24:...|  earthquake|            0.5|       0.7|            0.067|  10.0| reviewed|    nc|\n",
						"|           34.006|          -117.0245|-0.75|0.78|     ml|18.0|198.0|  0.1823|0.22| ci|ci40199608|2022-03-04 18:57:...|  earthquake|           0.66|     31.61|            0.172|  12.0| reviewed|    ci|\n",
						"|       34.0388333|       -117.0381667| 9.64|1.12|     ml|41.0| 91.0| 0.08188|0.18| ci|ci40199600|2022-03-04 18:46:...|  earthquake|           0.21|      0.48|            0.197|  19.0| reviewed|    ci|\n",
						"|           37.646|          -118.8605| 3.37|0.48|     md| 6.0|124.0| 0.02502|0.04| nc|nc73701161|2022-03-04 18:38:...|  earthquake|           0.76|      1.54|            0.133|   6.0| reviewed|    nc|\n",
						"|       37.6413333|       -118.8593333|  5.7|1.94|     md|18.0| 88.0| 0.02157|0.06| nc|nc73701156|2022-03-04 20:39:...|  earthquake|           0.39|      0.51|            0.165|  21.0| reviewed|    nc|\n",
						"|       38.8193321|       -122.8043365|  3.0| 1.0|     md|15.0| 45.0|0.006045|0.02| nc|nc73701151|2022-03-04 18:30:...|  earthquake|           0.31|       1.0|             0.21|   2.0|automatic|    nc|\n",
						"|       33.8491667|       -117.4978333| 2.29|1.72|     ml|57.0| 31.0| 0.05418|0.14| ci|ci40199592|2022-03-04 18:38:...|quarry blast|           0.17|      0.31|             0.17|  22.0| reviewed|    ci|\n",
						"|       34.0363333|       -117.0356667|12.88|2.12|     ml|79.0| 47.0| 0.06374|0.13| ci|ci40199584|2022-03-04 18:38:...|  earthquake|           0.13|      0.33|            0.194|  24.0| reviewed|    ci|\n",
						"|46.99366666666667|-120.36183333333334|-0.93|1.71|     ml|16.0| 92.0|   0.143|0.33| uw|uw61820151|2022-03-04 19:53:...|   explosion|           0.88|     31.61|0.139427161652421|  12.0| reviewed|    uw|\n",
						"+-----------------+-------------------+-----+----+-------+----+-----+--------+----+---+----------+--------------------+------------+---------------+----------+-----------------+------+---------+------+\n",
						"only showing top 20 rows\n"
					]
				}
			],
			"source": [
				"data.show()"
			]
		},
		{
			"cell_type": "code",
			"execution_count": 48,
			"metadata": {
				"id": "yr4CBq0hJ9Ol",
				"trusted": true,
				"vscode": {
					"languageId": "python_glue_session"
				}
			},
			"outputs": [],
			"source": [
				"from pyspark.sql.functions import *\n",
				"from pyspark.ml.feature import StringIndexer\n"
			]
		},
		{
			"cell_type": "code",
			"execution_count": 49,
			"metadata": {
				"id": "9ny7PCaPLkV-",
				"trusted": true,
				"vscode": {
					"languageId": "python_glue_session"
				}
			},
			"outputs": [],
			"source": [
				"l=[\"magType\",\"net\",\"type\",\"source\"]\n",
				"#indexer=StringIndexer(inputCol=[\"magType\",\"net\",\"type\",\"source\"],outputCol=[\"magType1\",\"net1\",\"type1\",\"source1\"],handleInvalid=\"keep\",stringOrderType=\"frequencyDesc\")\n",
				"\n",
				"\n",
				"\n",
				"indexer = [\n",
				"StringIndexer(inputCol=c, outputCol=\"{0}1\".format(c))\n",
				"for c in l\n",
				"]"
			]
		},
		{
			"cell_type": "code",
			"execution_count": 50,
			"metadata": {
				"id": "DbWjGZ4NOwSa",
				"trusted": true,
				"vscode": {
					"languageId": "python_glue_session"
				}
			},
			"outputs": [],
			"source": [
				"from pyspark.ml import Pipeline\n",
				"from pyspark.ml.regression import LinearRegression\n",
				"from pyspark.ml.feature import VectorAssembler, StandardScaler"
			]
		},
		{
			"cell_type": "code",
			"execution_count": 51,
			"metadata": {
				"id": "DVZoUba4Q1xm",
				"trusted": true,
				"vscode": {
					"languageId": "python_glue_session"
				}
			},
			"outputs": [],
			"source": [
				"from pyspark.sql.functions import unix_timestamp\n",
				"\n",
				"# Convert the \"time\" column to the number of seconds since the Unix epoch\n",
				"data = data.withColumn(\"time\", unix_timestamp(data[\"time\"]) / 1000)"
			]
		},
		{
			"cell_type": "code",
			"execution_count": 59,
			"metadata": {
				"id": "5J0ZsgmTO497",
				"trusted": true,
				"vscode": {
					"languageId": "python_glue_session"
				}
			},
			"outputs": [],
			"source": [
				"va=VectorAssembler(inputCols=[\"latitude\",\"longitude\",\"depth\",\"magType1\",\"net1\",\"mag\",\"nst\",\"time\"],outputCol=\"features\")\n"
			]
		},
		{
			"cell_type": "code",
			"execution_count": 69,
			"metadata": {
				"trusted": true,
				"vscode": {
					"languageId": "python_glue_session"
				}
			},
			"outputs": [],
			"source": [
				"pipeline = Pipeline(stages=indexer + [va])\n",
				"df_tfm=pipeline.fit(data).transform(data)"
			]
		},
		{
			"cell_type": "code",
			"execution_count": 68,
			"metadata": {
				"id": "kaFF9VSAQ9jn",
				"trusted": true,
				"vscode": {
					"languageId": "python_glue_session"
				}
			},
			"outputs": [],
			"source": [
				"train, test = df_tfm.randomSplit([0.7, 0.3])"
			]
		},
		{
			"cell_type": "code",
			"execution_count": 70,
			"metadata": {
				"colab": {
					"base_uri": "https://localhost:8080/"
				},
				"id": "Hm-yRqEQRQRN",
				"outputId": "7d714e60-979c-48df-a3eb-1d70e740c566",
				"trusted": true,
				"vscode": {
					"languageId": "python_glue_session"
				}
			},
			"outputs": [
				{
					"name": "stdout",
					"output_type": "stream",
					"text": [
						"Training: 25710 x 24\n"
					]
				}
			],
			"source": [
				"num_rows_train = train.count()\n",
				"num_cols_train = len(train.columns)\n",
				"print(\"Training:\",num_rows_train,\"x\",num_cols_train)"
			]
		},
		{
			"cell_type": "code",
			"execution_count": 71,
			"metadata": {
				"colab": {
					"base_uri": "https://localhost:8080/"
				},
				"id": "DMM5mIinRWQI",
				"outputId": "1dea6091-ef11-497f-9cc5-b96de3024cfb",
				"trusted": true,
				"vscode": {
					"languageId": "python_glue_session"
				}
			},
			"outputs": [
				{
					"name": "stdout",
					"output_type": "stream",
					"text": [
						"Training: 11063 x 24\n"
					]
				}
			],
			"source": [
				"num_rows_test = test.count()\n",
				"num_cols_test = len(test.columns)\n",
				"print(\"Training:\",num_rows_test,\"x\",num_cols_test)"
			]
		},
		{
			"cell_type": "code",
			"execution_count": 72,
			"metadata": {
				"trusted": true,
				"vscode": {
					"languageId": "python_glue_session"
				}
			},
			"outputs": [
				{
					"name": "stdout",
					"output_type": "stream",
					"text": [
						"['latitude', 'longitude', 'depth', 'mag', 'magType', 'nst', 'gap', 'dmin', 'rms', 'net', 'id', 'time', 'type', 'horizontalError', 'depthError', 'magError', 'magNst', 'status', 'source', 'magType1', 'net1', 'type1', 'source1', 'features']\n"
					]
				}
			],
			"source": [
				"df_tfm.columns"
			]
		},
		{
			"cell_type": "code",
			"execution_count": 73,
			"metadata": {
				"id": "sxfkQKkoRWRo",
				"trusted": true,
				"vscode": {
					"languageId": "python_glue_session"
				}
			},
			"outputs": [],
			"source": [
				"scaler = StandardScaler(inputCol='features', outputCol='scaled_features')\n",
				"scaler_model = scaler.fit(df_tfm)"
			]
		},
		{
			"cell_type": "code",
			"execution_count": 74,
			"metadata": {
				"id": "X9hVClAoRufM",
				"trusted": true,
				"vscode": {
					"languageId": "python_glue_session"
				}
			},
			"outputs": [],
			"source": [
				"train=scaler_model.transform(df_tfm)"
			]
		},
		{
			"cell_type": "code",
			"execution_count": 75,
			"metadata": {
				"id": "PBWAGjGCVeKL",
				"trusted": true,
				"vscode": {
					"languageId": "python_glue_session"
				}
			},
			"outputs": [],
			"source": [
				"test=scaler_model.transform(test)"
			]
		},
		{
			"cell_type": "code",
			"execution_count": 76,
			"metadata": {
				"colab": {
					"base_uri": "https://localhost:8080/"
				},
				"id": "BKpsX4iKR3NB",
				"outputId": "e8943bfe-932f-499a-e7ae-8af116349513",
				"trusted": true,
				"vscode": {
					"languageId": "python_glue_session"
				}
			},
			"outputs": [
				{
					"name": "stdout",
					"output_type": "stream",
					"text": [
						"+----------+------------+-----+----+-------+----+-----+--------+----+---+----------+-----------+----------+---------------+----------+--------+------+---------+------+--------+----+-----+-------+------------------------------------------------------------+-----------------------------------------------------------------------------------------------------------------------------------------------------------+\n",
						"|latitude  |longitude   |depth|mag |magType|nst |gap  |dmin    |rms |net|id        |time       |type      |horizontalError|depthError|magError|magNst|status   |source|magType1|net1|type1|source1|features                                                    |scaled_features                                                                                                                                            |\n",
						"+----------+------------+-----+----+-------+----+-----+--------+----+---+----------+-----------+----------+---------------+----------+--------+------+---------+------+--------+----+-----+-------+------------------------------------------------------------+-----------------------------------------------------------------------------------------------------------------------------------------------------------+\n",
						"|38.7596664|-122.7196655|1.61 |1.24|md     |14.0|115.0|0.004494|0.04|nc |nc73701241|1646429.376|earthquake|0.3            |0.36      |0.1     |5.0   |automatic|nc    |1.0     |1.0 |0.0  |1.0    |[38.7596664,-122.7196655,1.61,1.0,1.0,1.24,14.0,1646429.376]|[2.81111197095991,-2.1680177566655177,0.03383931875399207,1.3154077708782064,0.5283346404054186,0.9871376891934288,0.7615650518271594,237.1356108574519]   |\n",
						"|38.8338318|-122.8154984|1.82 |1.13|md     |22.0|66.0 |0.01632 |0.02|nc |nc73701236|1646429.342|earthquake|0.19           |0.53      |0.14    |4.0   |automatic|nc    |1.0     |1.0 |0.0  |1.0    |[38.8338318,-122.8154984,1.82,1.0,1.0,1.13,22.0,1646429.342]|[2.8164909451135944,-2.1697107813981567,0.03825314293929538,1.3154077708782064,0.5283346404054186,0.8995690232165924,1.196745081442679,237.1356059604239]  |\n",
						"|35.5966682|-120.2713318|11.57|2.31|md     |5.0 |178.0|0.159   |0.01|nc |nc73701231|1646429.216|earthquake|3.14           |3.51      |0.76    |3.0   |automatic|nc    |1.0     |1.0 |0.0  |1.0    |[35.5966682,-120.2713318,11.57,1.0,1.0,2.31,5.0,1646429.216]|[2.581710045453538,-2.1247644531773116,0.24318069439980633,1.3154077708782064,0.5283346404054186,1.8389419855135651,0.27198751850969977,237.13558781261423]|\n",
						"+----------+------------+-----+----+-------+----+-----+--------+----+---+----------+-----------+----------+---------------+----------+--------+------+---------+------+--------+----+-----+-------+------------------------------------------------------------+-----------------------------------------------------------------------------------------------------------------------------------------------------------+\n",
						"only showing top 3 rows\n"
					]
				}
			],
			"source": [
				"train.show(3,False )"
			]
		},
		{
			"cell_type": "code",
			"execution_count": 77,
			"metadata": {
				"id": "0WoWOMzVR648",
				"trusted": true,
				"vscode": {
					"languageId": "python_glue_session"
				}
			},
			"outputs": [],
			"source": [
				"from pyspark.ml.classification import LogisticRegression"
			]
		},
		{
			"cell_type": "code",
			"execution_count": 78,
			"metadata": {
				"id": "hX8nD5LYSJdV",
				"trusted": true,
				"vscode": {
					"languageId": "python_glue_session"
				}
			},
			"outputs": [],
			"source": [
				"log=LogisticRegression(featuresCol='scaled_features',labelCol='type1')"
			]
		},
		{
			"cell_type": "code",
			"execution_count": 79,
			"metadata": {
				"id": "AcfdcVlmUZO6",
				"trusted": true,
				"vscode": {
					"languageId": "python_glue_session"
				}
			},
			"outputs": [],
			"source": [
				"lrmodel=log.fit(train)"
			]
		},
		{
			"cell_type": "code",
			"execution_count": 80,
			"metadata": {
				"id": "PQhXJ8TKUgDR",
				"trusted": true,
				"vscode": {
					"languageId": "python_glue_session"
				}
			},
			"outputs": [],
			"source": [
				"prediction=lrmodel.transform(test)"
			]
		},
		{
			"cell_type": "code",
			"execution_count": 81,
			"metadata": {
				"colab": {
					"base_uri": "https://localhost:8080/"
				},
				"id": "cLi998IPVD8u",
				"outputId": "cc844f12-5e79-4463-c19a-a5411b1008d3",
				"trusted": true,
				"vscode": {
					"languageId": "python_glue_session"
				}
			},
			"outputs": [
				{
					"name": "stdout",
					"output_type": "stream",
					"text": [
						"+--------+---------+-----+----+-------+----+-----+------+----+---+------------+-----------+----------+---------------+----------+--------+------+--------+------+--------+----+-----+-------+--------------------+--------------------+\n",
						"|latitude|longitude|depth| mag|magType| nst|  gap|  dmin| rms|net|          id|       time|      type|horizontalError|depthError|magError|magNst|  status|source|magType1|net1|type1|source1|            features|     scaled_features|\n",
						"+--------+---------+-----+----+-------+----+-----+------+----+---+------------+-----------+----------+---------------+----------+--------+------+--------+------+--------+----+-----+-------+--------------------+--------------------+\n",
						"| 17.8638| -68.5596| 80.0|3.57|     md|18.0|207.0|0.6741|0.59| pr|pr2022087000|1648506.341|earthquake|           3.82|      4.94|    0.25|  11.0|reviewed|    pr|     1.0| 6.0|  0.0|    6.0|[17.8638,-68.5596...|[1.29560305056788...|\n",
						"| 17.9123| -66.9085| 10.0| 3.3|     md|25.0|200.0|0.0693|0.16| pr|pr2022073000|1647235.696|earthquake|           0.57|      0.48|    0.23|  17.0|reviewed|    pr|     1.0| 6.0|  0.0|    6.0|[17.9123,-66.9085...|[1.29912059711187...|\n",
						"| 17.9153| -66.8736| 13.0|3.66|     md|23.0|195.0|0.0601|0.15| pr|pr2022140000|1653041.725|earthquake|           0.57|      0.38|     0.1|  12.0|reviewed|    pr|     1.0| 6.0|  0.0|    6.0|[17.9153,-66.8736...|[1.29933817731047...|\n",
						"+--------+---------+-----+----+-------+----+-----+------+----+---+------------+-----------+----------+---------------+----------+--------+------+--------+------+--------+----+-----+-------+--------------------+--------------------+\n",
						"only showing top 3 rows\n"
					]
				}
			],
			"source": [
				"test.show(3)"
			]
		},
		{
			"cell_type": "code",
			"execution_count": 82,
			"metadata": {
				"id": "vGD13yL7VElr",
				"trusted": true,
				"vscode": {
					"languageId": "python_glue_session"
				}
			},
			"outputs": [],
			"source": [
				"from pyspark.ml.evaluation import RegressionEvaluator"
			]
		},
		{
			"cell_type": "code",
			"execution_count": 83,
			"metadata": {
				"colab": {
					"base_uri": "https://localhost:8080/"
				},
				"id": "JosXBXi6WJ-o",
				"outputId": "9d51868b-6fb3-4fe2-d8da-9118aaa6f384",
				"trusted": true,
				"vscode": {
					"languageId": "python_glue_session"
				}
			},
			"outputs": [
				{
					"name": "stdout",
					"output_type": "stream",
					"text": [
						"+------------------+-----+\n",
						"|              type|count|\n",
						"+------------------+-----+\n",
						"|         explosion|  109|\n",
						"|      quarry blast|  151|\n",
						"|       other event|    2|\n",
						"|        earthquake|10800|\n",
						"|chemical explosion|    1|\n",
						"+------------------+-----+\n"
					]
				}
			],
			"source": [
				"test.groupby(\"type\").count().show()"
			]
		},
		{
			"cell_type": "code",
			"execution_count": 84,
			"metadata": {
				"colab": {
					"base_uri": "https://localhost:8080/"
				},
				"id": "4BcCzYPrXDF5",
				"outputId": "38ef2873-8a63-4f1c-f2e6-ffdd21e4c834",
				"trusted": true,
				"vscode": {
					"languageId": "python_glue_session"
				}
			},
			"outputs": [
				{
					"name": "stdout",
					"output_type": "stream",
					"text": [
						"+------------------+-----+\n",
						"|              type|count|\n",
						"+------------------+-----+\n",
						"|         explosion|  370|\n",
						"|      quarry blast|  501|\n",
						"|       other event|    2|\n",
						"|        earthquake|35899|\n",
						"|chemical explosion|    1|\n",
						"+------------------+-----+\n"
					]
				}
			],
			"source": [
				"train.groupby(\"type\").count().show()"
			]
		},
		{
			"cell_type": "code",
			"execution_count": 85,
			"metadata": {
				"colab": {
					"base_uri": "https://localhost:8080/"
				},
				"id": "ke3H04FEWbDN",
				"outputId": "aae7763d-ae50-4bec-863d-f996bd8a7684",
				"trusted": true,
				"vscode": {
					"languageId": "python_glue_session"
				}
			},
			"outputs": [
				{
					"name": "stdout",
					"output_type": "stream",
					"text": [
						"Accuracy: 0.9746000180782789\n",
						"   prediction  type1\n",
						"0         0.0    0.0\n",
						"1         0.0    0.0\n",
						"2         0.0    0.0\n",
						"3         0.0    0.0\n",
						"4         0.0    0.0\n",
						"5         0.0    0.0\n",
						"6         0.0    0.0\n",
						"7         0.0    0.0\n",
						"8         0.0    0.0\n",
						"9         0.0    0.0\n",
						"Accuracy: 0.9746000180782789\n"
					]
				}
			],
			"source": [
				"# Use the MulticlassClassificationEvaluator to evaluate the model's accuracy\n",
				"from pyspark.ml.evaluation import MulticlassClassificationEvaluator\n",
				"\n",
				"evaluator = MulticlassClassificationEvaluator(labelCol=\"type1\", predictionCol=\"prediction\", metricName=\"accuracy\")\n",
				"accuracy = evaluator.evaluate(prediction)\n",
				"print(\"Accuracy:\", accuracy)\n",
				"# Select the \"prediction\" and \"label\" columns\n",
				"predictions_df = prediction.select([\"prediction\", \"type1\"])\n",
				"\n",
				"# Convert the predictions and labels to Pandas dataframes for easier inspection\n",
				"predictions_pd = predictions_df.toPandas()\n",
				"\n",
				"# Print the first 10 predictions and their corresponding true labels\n",
				"print(predictions_pd.head(10))\n",
				"# Set the hyperparameters for the logistic regression model\n",
				"lr = LogisticRegression(labelCol='type1', featuresCol='features')\n",
				"\n",
				"# Fit the model to the training data\n",
				"lr_model = lr.fit(train)\n",
				"\n",
				"# Make predictions on the test data\n",
				"predictions = lr_model.transform(test)\n",
				"# Save the model to a file\n",
				"#lr_model.save(\"logistic_regression_model1\")\n",
				"\n",
				"# Load the saved model\n",
				"#loaded_model = LogisticRegression.load(\"/content/logistic_regression_model1\")\n",
				"\n",
				"accuracy = evaluator.evaluate(predictions)\n",
				"print(\"Accuracy:\", accuracy)"
			]
		},
		{
			"cell_type": "code",
			"execution_count": 86,
			"metadata": {
				"id": "kP3g-2WEbD6k",
				"trusted": true,
				"vscode": {
					"languageId": "python_glue_session"
				}
			},
			"outputs": [],
			"source": [
				"from pyspark.ml.classification import RandomForestClassifier"
			]
		},
		{
			"cell_type": "code",
			"execution_count": 87,
			"metadata": {
				"id": "nM_lafI5bPqi",
				"trusted": true,
				"vscode": {
					"languageId": "python_glue_session"
				}
			},
			"outputs": [],
			"source": [
				"rand=RandomForestClassifier(featuresCol='scaled_features',labelCol='type1')\n",
				"rmodel=rand.fit(train)"
			]
		},
		{
			"cell_type": "code",
			"execution_count": 88,
			"metadata": {
				"id": "LEeaqqhmbXhO",
				"trusted": true,
				"vscode": {
					"languageId": "python_glue_session"
				}
			},
			"outputs": [],
			"source": [
				"predictionrand=rmodel.transform(test)"
			]
		},
		{
			"cell_type": "code",
			"execution_count": 89,
			"metadata": {
				"colab": {
					"base_uri": "https://localhost:8080/"
				},
				"id": "fqBHIpD2bqps",
				"outputId": "a3096f70-da69-4347-f5e7-99c822a13cdb",
				"trusted": true,
				"vscode": {
					"languageId": "python_glue_session"
				}
			},
			"outputs": [
				{
					"name": "stdout",
					"output_type": "stream",
					"text": [
						"Accuracy: 0.98607972521016\n",
						"   prediction  type1\n",
						"0         0.0    0.0\n",
						"1         0.0    0.0\n",
						"2         0.0    0.0\n",
						"3         0.0    0.0\n",
						"4         0.0    0.0\n",
						"5         0.0    0.0\n",
						"6         0.0    0.0\n",
						"7         0.0    0.0\n",
						"8         0.0    0.0\n",
						"9         0.0    0.0\n"
					]
				}
			],
			"source": [
				"from pyspark.ml.evaluation import MulticlassClassificationEvaluator\n",
				"\n",
				"evaluator = MulticlassClassificationEvaluator(labelCol=\"type1\", predictionCol=\"prediction\", metricName=\"accuracy\")\n",
				"accuracy = evaluator.evaluate(predictionrand)\n",
				"print(\"Accuracy:\", accuracy)\n",
				"# Select the \"prediction\" and \"label\" columns\n",
				"predictions_df = predictionrand.select([\"prediction\", \"type1\"])\n",
				"\n",
				"# Convert the predictions and labels to Pandas dataframes for easier inspection\n",
				"predictions_pd = predictions_df.toPandas()\n",
				"\n",
				"# Print the first 10 predictions and their corresponding true labels\n",
				"print(predictions_pd.head(10))\n"
			]
		},
		{
			"cell_type": "code",
			"execution_count": 90,
			"metadata": {
				"colab": {
					"base_uri": "https://localhost:8080/"
				},
				"id": "Mt37NQDscTod",
				"outputId": "1fa6059e-eeb6-4b1b-b1e7-cd49f2c68d08",
				"trusted": true,
				"vscode": {
					"languageId": "python_glue_session"
				}
			},
			"outputs": [
				{
					"name": "stdout",
					"output_type": "stream",
					"text": [
						"Accuracy: 0.9864412907891169\n"
					]
				}
			],
			"source": [
				"# Set the hyperparameters for the logistic regression model\n",
				"regrand = RandomForestClassifier(labelCol='type1', featuresCol='features',numTrees=100,maxDepth=5)\n",
				"\n",
				"# Fit the model to the training data\n",
				"regmodel = regrand.fit(train)\n",
				"\n",
				"# Make predictions on the test data\n",
				"predictions = regmodel.transform(test)\n",
				"\n",
				"accuracy = evaluator.evaluate(predictions)\n",
				"print(\"Accuracy:\", accuracy)"
			]
		},
		{
			"cell_type": "code",
			"execution_count": 91,
			"metadata": {
				"id": "p01mfla7dU7V",
				"trusted": true,
				"vscode": {
					"languageId": "python_glue_session"
				}
			},
			"outputs": [],
			"source": [
				"from pyspark.ml.tuning import ParamGridBuilder, CrossValidator\n",
				"\n",
				"# Define the hyperparameters to tune\n",
				"hyperparameters = [\n",
				"    {'regParam': [0.1, 0.01, 0.001], 'elasticNetParam': [0.0, 0.5, 1.0]},\n",
				"    {'regParam': [0.1, 0.01, 0.001], 'elasticNetParam': [0.0, 0.5, 1.0], 'maxIter': [10, 50, 100]}\n",
				"]"
			]
		},
		{
			"cell_type": "code",
			"execution_count": 92,
			"metadata": {
				"id": "X8d8iMKtekRx",
				"trusted": true,
				"vscode": {
					"languageId": "python_glue_session"
				}
			},
			"outputs": [],
			"source": [
				"param_grid = ParamGridBuilder().addGrid(log.regParam, hyperparameters[0]['regParam'])\\\n",
				"                               .addGrid(log.elasticNetParam, hyperparameters[0]['elasticNetParam'])\\\n",
				"                               .build()"
			]
		},
		{
			"cell_type": "code",
			"execution_count": 93,
			"metadata": {
				"id": "BTvyCpIKex3f",
				"trusted": true,
				"vscode": {
					"languageId": "python_glue_session"
				}
			},
			"outputs": [],
			"source": [
				"cv = CrossValidator(estimator=log, estimatorParamMaps=param_grid, evaluator=evaluator, numFolds=2)"
			]
		},
		{
			"cell_type": "code",
			"execution_count": 94,
			"metadata": {
				"id": "c_ZNiHRoe2aN",
				"trusted": true,
				"vscode": {
					"languageId": "python_glue_session"
				}
			},
			"outputs": [],
			"source": [
				"model = cv.fit(train)"
			]
		},
		{
			"cell_type": "code",
			"execution_count": 95,
			"metadata": {
				"colab": {
					"base_uri": "https://localhost:8080/"
				},
				"id": "I_6W2IoihORa",
				"outputId": "45e823ce-42a3-43bb-c68a-86f41e5ae25b",
				"trusted": true,
				"vscode": {
					"languageId": "python_glue_session"
				}
			},
			"outputs": [
				{
					"name": "stdout",
					"output_type": "stream",
					"text": [
						"[Param(parent='CrossValidatorModel_a964530ec205', name='estimator', doc='estimator to be cross-validated'), Param(parent='CrossValidatorModel_a964530ec205', name='estimatorParamMaps', doc='estimator param maps'), Param(parent='CrossValidatorModel_a964530ec205', name='evaluator', doc='evaluator used to select hyper-parameters that maximize the validator metric'), Param(parent='CrossValidatorModel_a964530ec205', name='seed', doc='random seed.')]\n"
					]
				}
			],
			"source": [
				"model.params"
			]
		},
		{
			"cell_type": "code",
			"execution_count": 96,
			"metadata": {
				"colab": {
					"base_uri": "https://localhost:8080/"
				},
				"id": "EVTEIPGngU5x",
				"outputId": "e392812f-7a42-4059-8041-2c5365ba2af7",
				"trusted": true,
				"vscode": {
					"languageId": "python_glue_session"
				}
			},
			"outputs": [
				{
					"name": "stdout",
					"output_type": "stream",
					"text": [
						"LogisticRegressionModel: uid = LogisticRegression_1957cd105963, numClasses = 5, numFeatures = 8\n"
					]
				}
			],
			"source": [
				"model.bestModel"
			]
		},
		{
			"cell_type": "code",
			"execution_count": 97,
			"metadata": {
				"colab": {
					"base_uri": "https://localhost:8080/"
				},
				"id": "AosKLZvffuiW",
				"outputId": "a887d902-bf88-4b79-eba8-4d8ea10b1b1b",
				"trusted": true,
				"vscode": {
					"languageId": "python_glue_session"
				}
			},
			"outputs": [
				{
					"name": "stdout",
					"output_type": "stream",
					"text": [
						"Accuracy:  0.9762270631835849\n"
					]
				}
			],
			"source": [
				"predictions = model.transform(test)\n",
				"\n",
				"accuracy = evaluator.evaluate(predictions)\n",
				"print(\"Accuracy: \", accuracy)"
			]
		}
	],
	"metadata": {
		"colab": {
			"provenance": []
		},
		"kernelspec": {
			"display_name": "Glue PySpark",
			"language": "python",
			"name": "glue_pyspark"
		},
		"language_info": {
			"codemirror_mode": {
				"name": "python",
				"version": 3
			},
			"file_extension": ".py",
			"mimetype": "text/x-python",
			"name": "Python_Glue_Session",
			"pygments_lexer": "python3"
		}
	},
	"nbformat": 4,
	"nbformat_minor": 4
}
